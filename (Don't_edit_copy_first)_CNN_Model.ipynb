{
  "nbformat": 4,
  "nbformat_minor": 0,
  "metadata": {
    "colab": {
      "provenance": [],
      "authorship_tag": "ABX9TyPNpslnW7vmdhjr7kGOdxT0",
      "include_colab_link": true
    },
    "kernelspec": {
      "name": "python3",
      "display_name": "Python 3"
    },
    "language_info": {
      "name": "python"
    },
    "accelerator": "GPU",
    "gpuClass": "standard"
  },
  "cells": [
    {
      "cell_type": "markdown",
      "metadata": {
        "id": "view-in-github",
        "colab_type": "text"
      },
      "source": [
        "<a href=\"https://colab.research.google.com/github/turnede0/PCB/blob/Tensorflow_Model/(Don't_edit_copy_first)_CNN_Model.ipynb\" target=\"_parent\"><img src=\"https://colab.research.google.com/assets/colab-badge.svg\" alt=\"Open In Colab\"/></a>"
      ]
    },
    {
      "cell_type": "code",
      "execution_count": 42,
      "metadata": {
        "colab": {
          "base_uri": "https://localhost:8080/"
        },
        "id": "X6l7ou4CYuWW",
        "outputId": "905bce16-cab4-4ba3-b847-ab552ba7ac04"
      },
      "outputs": [
        {
          "output_type": "stream",
          "name": "stdout",
          "text": [
            "2.9.2\n"
          ]
        }
      ],
      "source": [
        "#import library and important functions in this line\n",
        "import tensorflow as tf\n",
        "import numpy as np\n",
        "import matplotlib.pyplot as plt\n",
        "print(tf.version.VERSION)"
      ]
    },
    {
      "cell_type": "code",
      "source": [
        "!unzip -u \"data.zip\"\n",
        "!unzip -u \"test.zip\"\n",
        "!unzip -u \"calib_data.zip\""
      ],
      "metadata": {
        "colab": {
          "base_uri": "https://localhost:8080/"
        },
        "id": "6LtRU8sAY49L",
        "outputId": "516dcba7-24fd-4ece-cd5e-3f10361ba8a3"
      },
      "execution_count": 43,
      "outputs": [
        {
          "output_type": "stream",
          "name": "stdout",
          "text": [
            "Archive:  data.zip\n",
            "Archive:  test.zip\n",
            "Archive:  calib_data.zip\n"
          ]
        }
      ]
    },
    {
      "cell_type": "code",
      "source": [
        "#to import dataset and split them to train val\n",
        "img_height = 224\n",
        "img_width = 224\n",
        "batch_size = 32\n",
        "\n",
        "#split load dataset into training images and preprocess it\n",
        "train_images = tf.keras.preprocessing.image_dataset_from_directory(\n",
        "    'data',\n",
        "    labels='inferred',\n",
        "    label_mode=\"int\",\n",
        "    color_mode='rgb',\n",
        "    batch_size=batch_size,\n",
        "    image_size=(img_height,img_width),\n",
        "    shuffle=True,\n",
        "    seed=123,\n",
        "    validation_split=0.2,\n",
        "    subset=\"training\"\n",
        "    )\n",
        "train_image = tf.keras.preprocessing.image_dataset_from_directory(\n",
        "    'calib_data',\n",
        "    labels='inferred',\n",
        "    label_mode=\"int\",\n",
        "    color_mode='rgb',\n",
        "    batch_size=batch_size,\n",
        "    image_size=(img_height,img_width),\n",
        "    shuffle=True,\n",
        "    seed=123,\n",
        "    validation_split=0.2,\n",
        "    subset=\"training\"\n",
        "    )\n",
        "test_images = tf.keras.preprocessing.image_dataset_from_directory(\n",
        "\t'test',\n",
        "\tlabels='inferred',\n",
        "\tlabel_mode=\"int\",\n",
        "\tcolor_mode='rgb',\n",
        "\tbatch_size=batch_size,\n",
        "\timage_size=(img_height, img_width),\n",
        "\tshuffle=True,\n",
        "\tseed=123,\n",
        "\tvalidation_split=0.99,\n",
        "\tsubset=\"validation\"\n",
        "\t)\t\n",
        "\n",
        "valid_images = tf.keras.preprocessing.image_dataset_from_directory(\n",
        "    'data',\n",
        "    labels='inferred',\n",
        "    label_mode=\"int\",\n",
        "    color_mode='rgb',\n",
        "    batch_size=batch_size,\n",
        "    image_size=(img_height,img_width),\n",
        "    shuffle=True,\n",
        "    seed=123,\n",
        "    validation_split=0.2,\n",
        "    subset=\"validation\"\n",
        "    ) \n",
        "\n",
        "#split load dataset into training images and preprocess it\n",
        "# done load images"
      ],
      "metadata": {
        "colab": {
          "base_uri": "https://localhost:8080/"
        },
        "id": "S0Pkn5XLY9wi",
        "outputId": "89839385-2f5f-433a-8ab0-e28b95ce1f0a"
      },
      "execution_count": 44,
      "outputs": [
        {
          "output_type": "stream",
          "name": "stdout",
          "text": [
            "Found 1170 files belonging to 2 classes.\n",
            "Using 936 files for training.\n",
            "Found 210 files belonging to 2 classes.\n",
            "Using 168 files for training.\n",
            "Found 130 files belonging to 2 classes.\n",
            "Using 128 files for validation.\n",
            "Found 1170 files belonging to 2 classes.\n",
            "Using 234 files for validation.\n"
          ]
        }
      ]
    },
    {
      "cell_type": "code",
      "source": [
        "resize_and_rescale = tf.keras.Sequential([\n",
        "  tf.keras.layers.Rescaling(1./255)\n",
        "])"
      ],
      "metadata": {
        "id": "f43s2DKEZK3x"
      },
      "execution_count": 45,
      "outputs": []
    },
    {
      "cell_type": "code",
      "source": [
        "AUTOTUNE = tf.data.AUTOTUNE\n",
        "train_images = train_images.map(lambda x, y: (resize_and_rescale(x), y), \n",
        "              num_parallel_calls=AUTOTUNE)\n",
        "test_images = test_images.map(lambda x, y: (resize_and_rescale(x), y), \n",
        "             num_parallel_calls=AUTOTUNE)\n",
        "valid_images = valid_images.map(lambda x, y: (resize_and_rescale(x), y), \n",
        "              num_parallel_calls=AUTOTUNE)"
      ],
      "metadata": {
        "id": "3vEalVZ1ZNbL"
      },
      "execution_count": 46,
      "outputs": []
    },
    {
      "cell_type": "code",
      "source": [
        "model = tf.keras.models.Sequential([\n",
        "    # since Conv2D is the first layer of the neural network, we should also specify the size of the input\n",
        "    tf.keras.layers.Conv2D(16, (3,3), activation='relu', input_shape=(224, 224, 3)),\n",
        "    tf.keras.layers.Conv2D(16, (3,3), activation='relu'), \n",
        "    tf.keras.layers.MaxPooling2D(2,2),\n",
        "    \n",
        "    # and repeat the process\n",
        "\n",
        "    tf.keras.layers.Conv2D(32, (3,3), activation='relu'), \n",
        "    tf.keras.layers.MaxPooling2D(2,2),\n",
        "    \n",
        "\n",
        "    tf.keras.layers.Conv2D(64, (3,3), activation='relu'), \n",
        "    tf.keras.layers.MaxPooling2D(2,2),\n",
        "    \n",
        "    tf.keras.layers.Conv2D(128, (3,3), activation='relu'), \n",
        "    tf.keras.layers.MaxPooling2D(2,2),\n",
        "    \n",
        "\n",
        "    # flatten the result to feed it to the dense layer \n",
        "    tf.keras.layers.Flatten(), \n",
        "    # and define 512 neurons for processing the output coming by the previous layers\n",
        "    tf.keras.layers.Dense(64, activation='relu'), \n",
        "    \n",
        "    # a single output neuron. The result will be 0 if the image is a cat, 1 if it is a dog\n",
        "    tf.keras.layers.Dense(2, activation='softmax')  \n",
        "])"
      ],
      "metadata": {
        "id": "0cT9Jq6lZQTI"
      },
      "execution_count": 47,
      "outputs": []
    },
    {
      "cell_type": "code",
      "source": [
        "model.summary()"
      ],
      "metadata": {
        "colab": {
          "base_uri": "https://localhost:8080/"
        },
        "id": "ill_IZxYI1zq",
        "outputId": "960a20aa-0d58-41a2-e768-23e758393d56"
      },
      "execution_count": 48,
      "outputs": [
        {
          "output_type": "stream",
          "name": "stdout",
          "text": [
            "Model: \"sequential_7\"\n",
            "_________________________________________________________________\n",
            " Layer (type)                Output Shape              Param #   \n",
            "=================================================================\n",
            " conv2d_15 (Conv2D)          (None, 222, 222, 16)      448       \n",
            "                                                                 \n",
            " conv2d_16 (Conv2D)          (None, 220, 220, 16)      2320      \n",
            "                                                                 \n",
            " max_pooling2d_12 (MaxPoolin  (None, 110, 110, 16)     0         \n",
            " g2D)                                                            \n",
            "                                                                 \n",
            " conv2d_17 (Conv2D)          (None, 108, 108, 32)      4640      \n",
            "                                                                 \n",
            " max_pooling2d_13 (MaxPoolin  (None, 54, 54, 32)       0         \n",
            " g2D)                                                            \n",
            "                                                                 \n",
            " conv2d_18 (Conv2D)          (None, 52, 52, 64)        18496     \n",
            "                                                                 \n",
            " max_pooling2d_14 (MaxPoolin  (None, 26, 26, 64)       0         \n",
            " g2D)                                                            \n",
            "                                                                 \n",
            " conv2d_19 (Conv2D)          (None, 24, 24, 128)       73856     \n",
            "                                                                 \n",
            " max_pooling2d_15 (MaxPoolin  (None, 12, 12, 128)      0         \n",
            " g2D)                                                            \n",
            "                                                                 \n",
            " flatten_3 (Flatten)         (None, 18432)             0         \n",
            "                                                                 \n",
            " dense_6 (Dense)             (None, 64)                1179712   \n",
            "                                                                 \n",
            " dense_7 (Dense)             (None, 2)                 130       \n",
            "                                                                 \n",
            "=================================================================\n",
            "Total params: 1,279,602\n",
            "Trainable params: 1,279,602\n",
            "Non-trainable params: 0\n",
            "_________________________________________________________________\n"
          ]
        }
      ]
    },
    {
      "cell_type": "code",
      "source": [
        "model.compile(optimizer=\"adam\",\n",
        "              loss='SparseCategoricalCrossentropy',\n",
        "              #loss='binary_crossentropy',\n",
        "              metrics = ['accuracy'])"
      ],
      "metadata": {
        "id": "EL4Jrh1_I73A"
      },
      "execution_count": 49,
      "outputs": []
    },
    {
      "cell_type": "code",
      "source": [
        "#train the model\n",
        "model.fit(train_images,\n",
        "          epochs=10,\n",
        "          validation_data=valid_images,\n",
        "          )"
      ],
      "metadata": {
        "colab": {
          "base_uri": "https://localhost:8080/"
        },
        "id": "06GG9eqtZSjE",
        "outputId": "096a3f94-7fcf-4790-ab91-f643c33c1d94"
      },
      "execution_count": 50,
      "outputs": [
        {
          "output_type": "stream",
          "name": "stdout",
          "text": [
            "Epoch 1/10\n",
            "30/30 [==============================] - 3s 71ms/step - loss: 0.7186 - accuracy: 0.5246 - val_loss: 0.6783 - val_accuracy: 0.5897\n",
            "Epoch 2/10\n",
            "30/30 [==============================] - 2s 65ms/step - loss: 0.5309 - accuracy: 0.7233 - val_loss: 0.4650 - val_accuracy: 0.7521\n",
            "Epoch 3/10\n",
            "30/30 [==============================] - 2s 65ms/step - loss: 0.4093 - accuracy: 0.8066 - val_loss: 0.5189 - val_accuracy: 0.7692\n",
            "Epoch 4/10\n",
            "30/30 [==============================] - 2s 64ms/step - loss: 0.3343 - accuracy: 0.8515 - val_loss: 0.3437 - val_accuracy: 0.8376\n",
            "Epoch 5/10\n",
            "30/30 [==============================] - 2s 65ms/step - loss: 0.2463 - accuracy: 0.8996 - val_loss: 0.3294 - val_accuracy: 0.8675\n",
            "Epoch 6/10\n",
            "30/30 [==============================] - 2s 65ms/step - loss: 0.2273 - accuracy: 0.9167 - val_loss: 0.3217 - val_accuracy: 0.8590\n",
            "Epoch 7/10\n",
            "30/30 [==============================] - 2s 65ms/step - loss: 0.1871 - accuracy: 0.9209 - val_loss: 0.2144 - val_accuracy: 0.9060\n",
            "Epoch 8/10\n",
            "30/30 [==============================] - 2s 65ms/step - loss: 0.1327 - accuracy: 0.9402 - val_loss: 0.2724 - val_accuracy: 0.8974\n",
            "Epoch 9/10\n",
            "30/30 [==============================] - 2s 65ms/step - loss: 0.1649 - accuracy: 0.9391 - val_loss: 0.2147 - val_accuracy: 0.8974\n",
            "Epoch 10/10\n",
            "30/30 [==============================] - 2s 65ms/step - loss: 0.1109 - accuracy: 0.9519 - val_loss: 0.2178 - val_accuracy: 0.9231\n"
          ]
        },
        {
          "output_type": "execute_result",
          "data": {
            "text/plain": [
              "<keras.callbacks.History at 0x7f09c74b59a0>"
            ]
          },
          "metadata": {},
          "execution_count": 50
        }
      ]
    },
    {
      "cell_type": "code",
      "source": [
        "model.fit(train_images,\n",
        "          epochs=5,\n",
        "          validation_data=valid_images,\n",
        "          )"
      ],
      "metadata": {
        "colab": {
          "base_uri": "https://localhost:8080/"
        },
        "id": "VKhnVCSQLYJj",
        "outputId": "8c6e0d7d-2004-401f-a497-4b0664b588c0"
      },
      "execution_count": 51,
      "outputs": [
        {
          "output_type": "stream",
          "name": "stdout",
          "text": [
            "Epoch 1/5\n",
            "30/30 [==============================] - 2s 65ms/step - loss: 0.1221 - accuracy: 0.9541 - val_loss: 0.2045 - val_accuracy: 0.9188\n",
            "Epoch 2/5\n",
            "30/30 [==============================] - 2s 65ms/step - loss: 0.0943 - accuracy: 0.9637 - val_loss: 0.2704 - val_accuracy: 0.9017\n",
            "Epoch 3/5\n",
            "30/30 [==============================] - 2s 65ms/step - loss: 0.1647 - accuracy: 0.9338 - val_loss: 0.2026 - val_accuracy: 0.9316\n",
            "Epoch 4/5\n",
            "30/30 [==============================] - 2s 65ms/step - loss: 0.0561 - accuracy: 0.9808 - val_loss: 0.3809 - val_accuracy: 0.8974\n",
            "Epoch 5/5\n",
            "30/30 [==============================] - 2s 65ms/step - loss: 0.0630 - accuracy: 0.9733 - val_loss: 0.2225 - val_accuracy: 0.9103\n"
          ]
        },
        {
          "output_type": "execute_result",
          "data": {
            "text/plain": [
              "<keras.callbacks.History at 0x7f09c74b5ca0>"
            ]
          },
          "metadata": {},
          "execution_count": 51
        }
      ]
    },
    {
      "cell_type": "code",
      "source": [
        "test_loss, test_acc = model.evaluate(test_images, verbose=2)"
      ],
      "metadata": {
        "colab": {
          "base_uri": "https://localhost:8080/"
        },
        "id": "a0mQrgq4ck6r",
        "outputId": "f4bb8a31-3232-4ac2-e18d-f58b2ba3666f"
      },
      "execution_count": 52,
      "outputs": [
        {
          "output_type": "stream",
          "name": "stdout",
          "text": [
            "4/4 - 0s - loss: 1.0495 - accuracy: 0.7344 - 183ms/epoch - 46ms/step\n"
          ]
        }
      ]
    },
    {
      "cell_type": "code",
      "source": [
        "#save the model\n",
        "model.save(\"model.h5\")"
      ],
      "metadata": {
        "id": "sB17Q59SZUgR"
      },
      "execution_count": 53,
      "outputs": []
    },
    {
      "cell_type": "code",
      "source": [
        "preds = model.predict(train_image)\n",
        "print(preds)"
      ],
      "metadata": {
        "id": "2i-Z0bIoZYPs",
        "colab": {
          "base_uri": "https://localhost:8080/"
        },
        "outputId": "cae8e7be-8814-4fe4-e63b-87d3c3b23d6a"
      },
      "execution_count": 54,
      "outputs": [
        {
          "output_type": "stream",
          "name": "stdout",
          "text": [
            "6/6 [==============================] - 0s 21ms/step\n",
            "[[0.0000000e+00 1.0000000e+00]\n",
            " [1.0000000e+00 0.0000000e+00]\n",
            " [0.0000000e+00 1.0000000e+00]\n",
            " [1.0000000e+00 0.0000000e+00]\n",
            " [3.0332753e-03 9.9696678e-01]\n",
            " [1.0000000e+00 0.0000000e+00]\n",
            " [1.0000000e+00 0.0000000e+00]\n",
            " [0.0000000e+00 1.0000000e+00]\n",
            " [0.0000000e+00 1.0000000e+00]\n",
            " [1.0000000e+00 0.0000000e+00]\n",
            " [1.0000000e+00 0.0000000e+00]\n",
            " [1.0000000e+00 0.0000000e+00]\n",
            " [0.0000000e+00 1.0000000e+00]\n",
            " [1.0000000e+00 0.0000000e+00]\n",
            " [0.0000000e+00 1.0000000e+00]\n",
            " [0.0000000e+00 1.0000000e+00]\n",
            " [1.0000000e+00 0.0000000e+00]\n",
            " [0.0000000e+00 1.0000000e+00]\n",
            " [0.0000000e+00 1.0000000e+00]\n",
            " [0.0000000e+00 1.0000000e+00]\n",
            " [0.0000000e+00 1.0000000e+00]\n",
            " [1.0000000e+00 0.0000000e+00]\n",
            " [1.0000000e+00 0.0000000e+00]\n",
            " [0.0000000e+00 1.0000000e+00]\n",
            " [1.0000000e+00 0.0000000e+00]\n",
            " [1.0000000e+00 0.0000000e+00]\n",
            " [0.0000000e+00 1.0000000e+00]\n",
            " [1.0000000e+00 0.0000000e+00]\n",
            " [0.0000000e+00 1.0000000e+00]\n",
            " [1.0000000e+00 0.0000000e+00]\n",
            " [1.0000000e+00 0.0000000e+00]\n",
            " [0.0000000e+00 1.0000000e+00]\n",
            " [0.0000000e+00 1.0000000e+00]\n",
            " [0.0000000e+00 1.0000000e+00]\n",
            " [0.0000000e+00 1.0000000e+00]\n",
            " [0.0000000e+00 1.0000000e+00]\n",
            " [1.0000000e+00 0.0000000e+00]\n",
            " [1.0000000e+00 0.0000000e+00]\n",
            " [1.0000000e+00 0.0000000e+00]\n",
            " [0.0000000e+00 1.0000000e+00]\n",
            " [0.0000000e+00 1.0000000e+00]\n",
            " [0.0000000e+00 1.0000000e+00]\n",
            " [0.0000000e+00 1.0000000e+00]\n",
            " [0.0000000e+00 1.0000000e+00]\n",
            " [0.0000000e+00 1.0000000e+00]\n",
            " [0.0000000e+00 1.0000000e+00]\n",
            " [0.0000000e+00 1.0000000e+00]\n",
            " [1.0000000e+00 0.0000000e+00]\n",
            " [0.0000000e+00 1.0000000e+00]\n",
            " [1.0000000e+00 0.0000000e+00]\n",
            " [1.0000000e+00 0.0000000e+00]\n",
            " [0.0000000e+00 1.0000000e+00]\n",
            " [0.0000000e+00 1.0000000e+00]\n",
            " [1.0000000e+00 0.0000000e+00]\n",
            " [1.0000000e+00 0.0000000e+00]\n",
            " [0.0000000e+00 1.0000000e+00]\n",
            " [1.0000000e+00 0.0000000e+00]\n",
            " [1.0000000e+00 0.0000000e+00]\n",
            " [1.0000000e+00 0.0000000e+00]\n",
            " [1.0000000e+00 0.0000000e+00]\n",
            " [0.0000000e+00 1.0000000e+00]\n",
            " [1.0000000e+00 0.0000000e+00]\n",
            " [0.0000000e+00 1.0000000e+00]\n",
            " [1.0000000e+00 0.0000000e+00]\n",
            " [1.0000000e+00 0.0000000e+00]\n",
            " [0.0000000e+00 1.0000000e+00]\n",
            " [0.0000000e+00 1.0000000e+00]\n",
            " [0.0000000e+00 1.0000000e+00]\n",
            " [0.0000000e+00 1.0000000e+00]\n",
            " [1.0000000e+00 0.0000000e+00]\n",
            " [1.0000000e+00 0.0000000e+00]\n",
            " [0.0000000e+00 1.0000000e+00]\n",
            " [0.0000000e+00 1.0000000e+00]\n",
            " [1.0000000e+00 0.0000000e+00]\n",
            " [0.0000000e+00 1.0000000e+00]\n",
            " [0.0000000e+00 1.0000000e+00]\n",
            " [1.0000000e+00 7.9793661e-14]\n",
            " [1.0000000e+00 0.0000000e+00]\n",
            " [0.0000000e+00 1.0000000e+00]\n",
            " [1.0000000e+00 0.0000000e+00]\n",
            " [1.0000000e+00 0.0000000e+00]\n",
            " [1.0000000e+00 0.0000000e+00]\n",
            " [1.0000000e+00 0.0000000e+00]\n",
            " [1.0000000e+00 0.0000000e+00]\n",
            " [1.0000000e+00 0.0000000e+00]\n",
            " [1.0000000e+00 0.0000000e+00]\n",
            " [0.0000000e+00 1.0000000e+00]\n",
            " [0.0000000e+00 1.0000000e+00]\n",
            " [1.0000000e+00 0.0000000e+00]\n",
            " [0.0000000e+00 1.0000000e+00]\n",
            " [1.0000000e+00 0.0000000e+00]\n",
            " [0.0000000e+00 1.0000000e+00]\n",
            " [0.0000000e+00 1.0000000e+00]\n",
            " [0.0000000e+00 1.0000000e+00]\n",
            " [1.0000000e+00 0.0000000e+00]\n",
            " [0.0000000e+00 1.0000000e+00]\n",
            " [1.0000000e+00 0.0000000e+00]\n",
            " [0.0000000e+00 1.0000000e+00]\n",
            " [2.8429775e-25 1.0000000e+00]\n",
            " [1.0000000e+00 0.0000000e+00]\n",
            " [1.0000000e+00 0.0000000e+00]\n",
            " [0.0000000e+00 1.0000000e+00]\n",
            " [1.0000000e+00 0.0000000e+00]\n",
            " [0.0000000e+00 1.0000000e+00]\n",
            " [0.0000000e+00 1.0000000e+00]\n",
            " [1.0000000e+00 0.0000000e+00]\n",
            " [3.8907421e-24 1.0000000e+00]\n",
            " [0.0000000e+00 1.0000000e+00]\n",
            " [0.0000000e+00 1.0000000e+00]\n",
            " [1.0000000e+00 0.0000000e+00]\n",
            " [1.0000000e+00 3.1191874e-09]\n",
            " [1.0000000e+00 0.0000000e+00]\n",
            " [0.0000000e+00 1.0000000e+00]\n",
            " [1.0000000e+00 0.0000000e+00]\n",
            " [0.0000000e+00 1.0000000e+00]\n",
            " [0.0000000e+00 1.0000000e+00]\n",
            " [0.0000000e+00 1.0000000e+00]\n",
            " [0.0000000e+00 1.0000000e+00]\n",
            " [0.0000000e+00 1.0000000e+00]\n",
            " [0.0000000e+00 1.0000000e+00]\n",
            " [0.0000000e+00 1.0000000e+00]\n",
            " [0.0000000e+00 1.0000000e+00]\n",
            " [1.0000000e+00 0.0000000e+00]\n",
            " [1.0000000e+00 0.0000000e+00]\n",
            " [0.0000000e+00 1.0000000e+00]\n",
            " [1.0000000e+00 0.0000000e+00]\n",
            " [0.0000000e+00 1.0000000e+00]\n",
            " [1.0000000e+00 0.0000000e+00]\n",
            " [0.0000000e+00 1.0000000e+00]\n",
            " [0.0000000e+00 1.0000000e+00]\n",
            " [1.0000000e+00 0.0000000e+00]\n",
            " [0.0000000e+00 1.0000000e+00]\n",
            " [0.0000000e+00 1.0000000e+00]\n",
            " [0.0000000e+00 1.0000000e+00]\n",
            " [0.0000000e+00 1.0000000e+00]\n",
            " [0.0000000e+00 1.0000000e+00]\n",
            " [0.0000000e+00 1.0000000e+00]\n",
            " [1.0000000e+00 0.0000000e+00]\n",
            " [0.0000000e+00 1.0000000e+00]\n",
            " [0.0000000e+00 1.0000000e+00]\n",
            " [0.0000000e+00 1.0000000e+00]\n",
            " [0.0000000e+00 1.0000000e+00]\n",
            " [0.0000000e+00 1.0000000e+00]\n",
            " [1.0000000e+00 0.0000000e+00]\n",
            " [0.0000000e+00 1.0000000e+00]\n",
            " [1.0000000e+00 0.0000000e+00]\n",
            " [1.0000000e+00 0.0000000e+00]\n",
            " [0.0000000e+00 1.0000000e+00]\n",
            " [0.0000000e+00 1.0000000e+00]\n",
            " [1.0000000e+00 0.0000000e+00]\n",
            " [0.0000000e+00 1.0000000e+00]\n",
            " [0.0000000e+00 1.0000000e+00]\n",
            " [0.0000000e+00 1.0000000e+00]\n",
            " [0.0000000e+00 1.0000000e+00]\n",
            " [0.0000000e+00 1.0000000e+00]\n",
            " [0.0000000e+00 1.0000000e+00]\n",
            " [1.0000000e+00 0.0000000e+00]\n",
            " [0.0000000e+00 1.0000000e+00]\n",
            " [0.0000000e+00 1.0000000e+00]\n",
            " [0.0000000e+00 1.0000000e+00]\n",
            " [0.0000000e+00 1.0000000e+00]\n",
            " [0.0000000e+00 1.0000000e+00]\n",
            " [1.0000000e+00 0.0000000e+00]\n",
            " [0.0000000e+00 1.0000000e+00]\n",
            " [0.0000000e+00 1.0000000e+00]\n",
            " [0.0000000e+00 1.0000000e+00]\n",
            " [1.0000000e+00 0.0000000e+00]\n",
            " [1.0000000e+00 0.0000000e+00]]\n"
          ]
        }
      ]
    },
    {
      "cell_type": "code",
      "source": [
        "classes = np.argmax(preds, axis = 1)\n",
        "print(classes)"
      ],
      "metadata": {
        "id": "ainDBt1LZZ5y",
        "colab": {
          "base_uri": "https://localhost:8080/"
        },
        "outputId": "5efea99c-729e-4e3c-cdcf-727b671e906c"
      },
      "execution_count": 55,
      "outputs": [
        {
          "output_type": "stream",
          "name": "stdout",
          "text": [
            "[1 0 1 0 1 0 0 1 1 0 0 0 1 0 1 1 0 1 1 1 1 0 0 1 0 0 1 0 1 0 0 1 1 1 1 1 0\n",
            " 0 0 1 1 1 1 1 1 1 1 0 1 0 0 1 1 0 0 1 0 0 0 0 1 0 1 0 0 1 1 1 1 0 0 1 1 0\n",
            " 1 1 0 0 1 0 0 0 0 0 0 0 1 1 0 1 0 1 1 1 0 1 0 1 1 0 0 1 0 1 1 0 1 1 1 0 0\n",
            " 0 1 0 1 1 1 1 1 1 1 1 0 0 1 0 1 0 1 1 0 1 1 1 1 1 1 0 1 1 1 1 1 0 1 0 0 1\n",
            " 1 0 1 1 1 1 1 1 0 1 1 1 1 1 0 1 1 1 0 0]\n"
          ]
        }
      ]
    }
  ]
}